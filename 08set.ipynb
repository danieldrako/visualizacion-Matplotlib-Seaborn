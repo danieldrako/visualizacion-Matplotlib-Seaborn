{
  "nbformat": 4,
  "nbformat_minor": 0,
  "metadata": {
    "colab": {
      "provenance": [],
      "authorship_tag": "ABX9TyN3AeZm+pBg4oobzlXHky9k",
      "include_colab_link": true
    },
    "kernelspec": {
      "name": "python3",
      "display_name": "Python 3"
    },
    "language_info": {
      "name": "python"
    }
  },
  "cells": [
    {
      "cell_type": "markdown",
      "metadata": {
        "id": "view-in-github",
        "colab_type": "text"
      },
      "source": [
        "<a href=\"https://colab.research.google.com/github/danieldrako/visualizacion-Matplotlib-Seaborn/blob/main/08set.ipynb\" target=\"_parent\"><img src=\"https://colab.research.google.com/assets/colab-badge.svg\" alt=\"Open In Colab\"/></a>"
      ]
    },
    {
      "cell_type": "markdown",
      "source": [
        "#Como usar Set\n",
        "Set es un método de Seaborn que permite configurar el estilo, fuente y color de las gráficas.\n",
        "\n"
      ],
      "metadata": {
        "id": "5EqHILjPTqxv"
      }
    },
    {
      "cell_type": "code",
      "execution_count": 1,
      "metadata": {
        "id": "3pxyGkchS4JP"
      },
      "outputs": [],
      "source": [
        "import seaborn as sns\n",
        "import matplotlib.pyplot as plt"
      ]
    },
    {
      "cell_type": "markdown",
      "source": [
        "###Crear gráficas de Barplot\n",
        "Para generar gráficas de Barplot puedes hacerlo utilizando el siguiente código."
      ],
      "metadata": {
        "id": "eOPXNRZNTrRe"
      }
    },
    {
      "cell_type": "code",
      "execution_count": 2,
      "metadata": {
        "colab": {
          "base_uri": "https://localhost:8080/",
          "height": 265
        },
        "id": "5iVRNKF1TrRe",
        "outputId": "450004dd-23c8-4de5-f3a9-58f2b8261682"
      },
      "outputs": [
        {
          "output_type": "display_data",
          "data": {
            "text/plain": [
              "<Figure size 432x288 with 1 Axes>"
            ],
            "image/png": "[encoded data removed]"
          },
          "metadata": {
            "needs_background": "light"
          }
        }
      ],
      "source": [
        "sns.barplot(x=['A','B','C'], y=[1,3,2])\n",
        "plt.show()"
      ]
    },
    {
      "cell_type": "markdown",
      "source": [
        "###Configurar fuentes y estilos\n",
        "- Configura el estilo, la paleta de colores, la fuente y el tamaño de la fuente de la gráfica."
      ],
      "metadata": {
        "id": "H2xsKMs8TrUP"
      }
    },
    {
      "cell_type": "code",
      "execution_count": 3,
      "metadata": {
        "colab": {
          "base_uri": "https://localhost:8080/",
          "height": 286
        },
        "id": "G0BmFlACTrUP",
        "outputId": "cc372213-3585-4ea5-abc7-dc107c525a62"
      },
      "outputs": [
        {
          "output_type": "stream",
          "name": "stderr",
          "text": [
            "WARNING:matplotlib.font_manager:findfont: Font family ['Verdana'] not found. Falling back to DejaVu Sans.\n"
          ]
        },
        {
          "output_type": "display_data",
          "data": {
            "text/plain": [
              "<Figure size 432x288 with 1 Axes>"
            ],
            "image/png": "[encoded data removed]"
          },
          "metadata": {}
        }
      ],
      "source": [
        "sns.set(style='dark', palette='dark', font=\"Verdana\", font_scale=1)\n",
        "sns.barplot(x=['A','B','C'], y=[1,3,2])\n",
        "plt.show()"
      ]
    },
    {
      "cell_type": "markdown",
      "source": [
        "##¿Qué necesitas saber al usar Set?\n",
        "Este parámetro afecta a todas las gráficas que creamos, incluidas las que no usan Seaborn.\n",
        "Podemos resetear los valores utilizando el método reset_orig.\n",
        "Este parámetro es un atajo de set_theme, que es el recomendado según la documentación"
      ],
      "metadata": {
        "id": "OXUwPStXTrW9"
      }
    },
    {
      "cell_type": "code",
      "execution_count": 6,
      "metadata": {
        "colab": {
          "base_uri": "https://localhost:8080/",
          "height": 301
        },
        "id": "SUbG9ZD7TrW-",
        "outputId": "1cdf6a5d-4b4c-4361-b4ef-3acd73ce89ca"
      },
      "outputs": [
        {
          "output_type": "display_data",
          "data": {
            "text/plain": [
              "<Figure size 432x288 with 1 Axes>"
            ],
            "image/png": "[encoded data removed]"
          },
          "metadata": {}
        }
      ],
      "source": [
        "sns.set(style='whitegrid', palette='icefire', font=\"DejaVu Sans\", font_scale=4)\n",
        "sns.barplot(x=['A','B','C'], y=[1,3,2])\n",
        "plt.show()\n"
      ]
    },
    {
      "cell_type": "markdown",
      "source": [],
      "metadata": {
        "id": "OmVvPocoTrZt"
      }
    },
    {
      "cell_type": "code",
      "execution_count": null,
      "metadata": {
        "id": "I4cr_-wDTrZu"
      },
      "outputs": [],
      "source": []
    },
    {
      "cell_type": "markdown",
      "source": [],
      "metadata": {
        "id": "kbbrDsP3Trce"
      }
    },
    {
      "cell_type": "code",
      "execution_count": null,
      "metadata": {
        "id": "UoePyzraTrcf"
      },
      "outputs": [],
      "source": []
    }
  ]
}