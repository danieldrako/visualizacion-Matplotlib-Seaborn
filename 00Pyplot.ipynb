{
  "nbformat": 4,
  "nbformat_minor": 0,
  "metadata": {
    "colab": {
      "provenance": [],
      "authorship_tag": "ABX9TyPHv3bufvqYxtH2kfBFYdxw",
      "include_colab_link": true
    },
    "kernelspec": {
      "name": "python3",
      "display_name": "Python 3"
    },
    "language_info": {
      "name": "python"
    }
  },
  "cells": [
    {
      "cell_type": "markdown",
      "metadata": {
        "id": "view-in-github",
        "colab_type": "text"
      },
      "source": [
        "<a href=\"https://colab.research.google.com/github/danieldrako/visualizacion-Matplotlib-Seaborn/blob/main/00Pyplot.ipynb\" target=\"_parent\"><img src=\"https://colab.research.google.com/assets/colab-badge.svg\" alt=\"Open In Colab\"/></a>"
      ]
    },
    {
      "cell_type": "markdown",
      "source": [
        "Pyplot es una herramienta que tiene Matplotlib para ejecutar gráficas de manera sencilla. Véamos cómo puedes lograrlo.\n",
        "\n",
        "##¿Cómo empezar a usar Pyplot?\n",
        "Importamos Matplotlib y Pandas"
      ],
      "metadata": {
        "id": "b4-7uFoDE6VN"
      }
    },
    {
      "cell_type": "code",
      "execution_count": 1,
      "metadata": {
        "id": "xlI-lcXyo5XL"
      },
      "outputs": [],
      "source": [
        "import matplotlib.pyplot as plt\n",
        "import numpy as np"
      ]
    },
    {
      "cell_type": "code",
      "source": [
        "#Creamos nuestras variables\n",
        "x = np.linspace(0,5,11)\n",
        "\n",
        "y = x ** 2\n"
      ],
      "metadata": {
        "id": "jkCIE74YFFx9"
      },
      "execution_count": 5,
      "outputs": []
    },
    {
      "cell_type": "code",
      "source": [
        "#Graficar en función de y\n",
        "plt.plot(x,y)\n",
        "plt.show()"
      ],
      "metadata": {
        "colab": {
          "base_uri": "https://localhost:8080/",
          "height": 265
        },
        "id": "ySX-tdjoFvh5",
        "outputId": "3b0e1f1e-169c-4ffe-c3ea-af8b29150d27"
      },
      "execution_count": 6,
      "outputs": [
        {
          "output_type": "display_data",
          "data": {
            "text/plain": [
              "<Figure size 432x288 with 1 Axes>"
            ],
            "image/png": "[encoded data removed]"
          },
          "metadata": {
            "needs_background": "light"
          }
        }
      ]
    },
    {
      "cell_type": "markdown",
      "source": [
        "Modificar gráficas usando Pyplot\n",
        "Ahora, vamos a cambiar color de la gráfica\n",
        "\n",
        "Character\tcolor\n",
        "\n",
        "‘b’\tblue\\\n",
        "‘g’\tgreen\\\n",
        "‘m’\tmagenta"
      ],
      "metadata": {
        "id": "SaKteO8FII3N"
      }
    },
    {
      "cell_type": "code",
      "source": [
        "plt.plot(x,y, 'm')\n",
        "plt.show()"
      ],
      "metadata": {
        "colab": {
          "base_uri": "https://localhost:8080/",
          "height": 265
        },
        "id": "qM1XFarDIA_M",
        "outputId": "b305d69c-2355-45e3-9321-993272630a56"
      },
      "execution_count": 7,
      "outputs": [
        {
          "output_type": "display_data",
          "data": {
            "text/plain": [
              "<Figure size 432x288 with 1 Axes>"
            ],
            "image/png": "[encoded data removed]"
          },
          "metadata": {
            "needs_background": "light"
          }
        }
      ]
    },
    {
      "cell_type": "markdown",
      "source": [
        "Cambiar más parámetros\n",
        "\n",
        "Format Strings\n",
        "\n",
        "character\tdescription\n",
        "\n",
        "- ‘.’\tpoint marker\n",
        "- ‘,’\tpixel marker\n",
        "- ‘o’\tcircle marker\n",
        "- ‘v’\ttriangle_down marker\n",
        "- ‘^’\ttriangle_up marker\n",
        "- ‘<’\ttriangle_left marker\n",
        "- ‘>’\ttriangle_right marker\n",
        "\n",
        "Line Styles\\\n",
        "character\tdescription\n",
        "\n",
        "- ‘-’\tsolid line style\n",
        "- ‘–’\tdashed line style\n",
        "- ‘-.’\tdash-dot line style\n",
        "- ‘:’\tdotted line style\n"
      ],
      "metadata": {
        "id": "9IfIwr5_IStO"
      }
    },
    {
      "cell_type": "code",
      "source": [
        "plt.plot(x,y, 'yD:') #grafica de color amarillo, con diamantes y puntos consecutivos\n",
        "plt.show()"
      ],
      "metadata": {
        "colab": {
          "base_uri": "https://localhost:8080/",
          "height": 265
        },
        "id": "Mk0Ri0VJIPcl",
        "outputId": "b588088d-4fdd-4428-c4cf-06f7fbc17083"
      },
      "execution_count": 8,
      "outputs": [
        {
          "output_type": "display_data",
          "data": {
            "text/plain": [
              "<Figure size 432x288 with 1 Axes>"
            ],
            "image/png": "[encoded data removed]"
          },
          "metadata": {
            "needs_background": "light"
          }
        }
      ]
    },
    {
      "cell_type": "markdown",
      "source": [
        "##Crear histograma"
      ],
      "metadata": {
        "id": "D1fAGUdeImEX"
      }
    },
    {
      "cell_type": "code",
      "source": [
        "plt.hist(y)  #histograma de los valores de y\n",
        "plt.show()"
      ],
      "metadata": {
        "colab": {
          "base_uri": "https://localhost:8080/",
          "height": 265
        },
        "id": "nths8LngIiPH",
        "outputId": "8502030a-ff5b-49a9-b9d2-ab0bf0ed175f"
      },
      "execution_count": 9,
      "outputs": [
        {
          "output_type": "display_data",
          "data": {
            "text/plain": [
              "<Figure size 432x288 with 1 Axes>"
            ],
            "image/png": "[encoded data removed]"
          },
          "metadata": {
            "needs_background": "light"
          }
        }
      ]
    },
    {
      "cell_type": "markdown",
      "source": [
        "##Crear gráfica de pie"
      ],
      "metadata": {
        "id": "XadRl3DdIqWf"
      }
    },
    {
      "cell_type": "code",
      "source": [
        "plt.pie(y)\n",
        "plt.show()"
      ],
      "metadata": {
        "colab": {
          "base_uri": "https://localhost:8080/",
          "height": 248
        },
        "id": "kYrm2HncIn8m",
        "outputId": "300e36e3-5813-4350-fa2f-e678366eadf8"
      },
      "execution_count": 10,
      "outputs": [
        {
          "output_type": "display_data",
          "data": {
            "text/plain": [
              "<Figure size 432x288 with 1 Axes>"
            ],
            "image/png": "[encoded data removed]"
          },
          "metadata": {}
        }
      ]
    },
    {
      "cell_type": "markdown",
      "source": [
        "##Conocer correlación entre variables"
      ],
      "metadata": {
        "id": "DMf_VHTZIvKS"
      }
    },
    {
      "cell_type": "code",
      "source": [
        "plt.scatter(x,y)  #correlacion entre la variable x e y\n",
        "plt.show()"
      ],
      "metadata": {
        "colab": {
          "base_uri": "https://localhost:8080/",
          "height": 265
        },
        "id": "sudh5ZWuItUW",
        "outputId": "af2f484d-886e-4bc5-ba04-6e1b3c3724cd"
      },
      "execution_count": 11,
      "outputs": [
        {
          "output_type": "display_data",
          "data": {
            "text/plain": [
              "<Figure size 432x288 with 1 Axes>"
            ],
            "image/png": "[encoded data removed]"
          },
          "metadata": {
            "needs_background": "light"
          }
        }
      ]
    },
    {
      "cell_type": "markdown",
      "source": [
        "##Distribución de los datos\n",
        "Distribución de los datos: Gráfico de caja"
      ],
      "metadata": {
        "id": "q6NegBXYIzqv"
      }
    },
    {
      "cell_type": "code",
      "source": [
        "plt.boxplot(x)\n",
        "plt.show()"
      ],
      "metadata": {
        "colab": {
          "base_uri": "https://localhost:8080/",
          "height": 265
        },
        "id": "bqEhmPWHIxjP",
        "outputId": "85fd47f3-0c11-49df-d075-fbb18e5507fd"
      },
      "execution_count": 12,
      "outputs": [
        {
          "output_type": "display_data",
          "data": {
            "text/plain": [
              "<Figure size 432x288 with 1 Axes>"
            ],
            "image/png": "[encoded data removed]"
          },
          "metadata": {
            "needs_background": "light"
          }
        }
      ]
    },
    {
      "cell_type": "code",
      "source": [],
      "metadata": {
        "id": "7x70REVdI22H"
      },
      "execution_count": null,
      "outputs": []
    }
  ]
}